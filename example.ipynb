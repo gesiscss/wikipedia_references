{
 "cells": [
  {
   "cell_type": "code",
   "execution_count": 126,
   "metadata": {},
   "outputs": [],
   "source": [
    "import json\n",
    "import pandas as pd\n",
    "import numpy as np\n",
    "import qgrid\n",
    "from _vars import *\n",
    "import os\n",
    "import sys\n",
    "import zipfile"
   ]
  },
  {
   "cell_type": "code",
   "execution_count": 156,
   "metadata": {},
   "outputs": [],
   "source": [
    "zip_filepath=\"json_archive.zip\"  #input parameter\n",
    "target_dir=\"extracted_files/\"  #input parameter\n",
    "files_to_extract = ['40171448_final.json', '10171448_final.json', '14171448_final.json'] #WRITE HERE FILENAMES"
   ]
  },
  {
   "cell_type": "code",
   "execution_count": 157,
   "metadata": {},
   "outputs": [
    {
     "name": "stdout",
     "output_type": "stream",
     "text": [
      "Extracting 40171448_final.json to extracted_files/\n",
      "Extracting 10171448_final.json to extracted_files/\n",
      "Extracting 14171448_final.json to extracted_files/\n"
     ]
    }
   ],
   "source": [
    "def unzip(zip_filepath, target_dir, files_to_extract):\n",
    "    \"\"\"\n",
    "    Unzips the files from a zip file and puts them in the given destination (can be a non-existing folder). \n",
    "    Out put can be filtered by providing the file extension.\n",
    "    :param zip_file: zip file to extract.\n",
    "    :param target_dir: destination folder.\n",
    "    :param files_to_extract: list of filenames to extract\n",
    "    :return: nothing\n",
    "    \"\"\"\n",
    "    if not os.path.exists(target_dir):\n",
    "        os.makedirs(target_dir)\n",
    "\n",
    "    try:\n",
    "        zfile = zipfile.ZipFile(zip_filepath, 'r')\n",
    "        for filename in files_to_extract:\n",
    "            print('Extracting {f} to {d}'.format(f=filename, d=target_dir))\n",
    "            zfile.extract(filename, target_dir)\n",
    "\n",
    "    except zipfile.BadZipfile:\n",
    "        print(\"Cannot extract {f}: Not a valid zipfile (BadZipfile Exception)\".format(f=zip_filepath))\n",
    "        \n",
    "unzip(zip_filepath, target_dir, files_to_extract)"
   ]
  },
  {
   "cell_type": "code",
   "execution_count": 143,
   "metadata": {},
   "outputs": [],
   "source": [
    "'''Reading a file and putting the data into dataframe'''\n",
    "with open('1206_final.json') as f:\n",
    "    data = json.load(f)\n",
    "    df = pd.DataFrame(data)"
   ]
  },
  {
   "cell_type": "code",
   "execution_count": 152,
   "metadata": {},
   "outputs": [],
   "source": [
    "'''Extracting the identificators of references and their types'''\n",
    "def extract_id(token_string):\n",
    "    for _id in dict_of_ids.keys():\n",
    "        token_id = re.search(dict_of_ids[_id] , token_string)\n",
    "        if token_id is not None:\n",
    "            token_id = token_id.group()\n",
    "            ref = re.compile(\"([a-zA-Z=:|]*)([0-9].+)\").match(token_id).groups() \n",
    "            return (_id, ref[1])\n",
    "        \n",
    "        \n",
    "df['ref_ids'] = np.empty((len(df), 0)).tolist()\n",
    "df['ref_id_ins'] = None\n",
    "df['ref_ids_type'] = np.empty((len(df), 0)).tolist()\n",
    "for i in range(len(df)):\n",
    "    ref_list = []\n",
    "    for seq in df['change_sequence'][i]:\n",
    "        ref = extract_id(\"\".join(seq['tokens']))\n",
    "        if ref != None and df.loc[i, 'ref_id_ins'] == None:\n",
    "            df.loc[i, 'ref_id_ins'] = seq['time']\n",
    "        if ref != None:\n",
    "            ref_list.append((ref[0].replace(\"=\", \"\"), ref[1]))\n",
    "    ref_list = set(ref_list)\n",
    "    df.at[i, 'ref_ids'] = [x[1] for x in ref_list]\n",
    "    df.at[i, 'ref_ids_type'] = [x[0] for x in ref_list]\n",
    "    "
   ]
  },
  {
   "cell_type": "markdown",
   "metadata": {},
   "source": [
    "In this example we are extracting the dates of reference insertion, date of id insertion and final reference deletion for each reference by its id:"
   ]
  },
  {
   "cell_type": "code",
   "execution_count": 153,
   "metadata": {},
   "outputs": [
    {
     "data": {
      "application/vnd.jupyter.widget-view+json": {
       "model_id": "4ad15bd0c16b4c9bb84c789ac649a608",
       "version_major": 2,
       "version_minor": 0
      },
      "text/plain": [
       "QgridWidget(grid_options={'fullWidthRows': True, 'syncColumnCellResize': True, 'forceFitColumns': True, 'defau…"
      ]
     },
     "metadata": {},
     "output_type": "display_data"
    }
   ],
   "source": [
    "def getting_data(df):\n",
    "    df_upt = pd.DataFrame(df[['ref_ids','ref_ids_type', 'ref_id_ins']])\n",
    "    df_upt['ins_time'] = df['first_rev_time']\n",
    "    df_upt['del_time'] = 'None'\n",
    "    for i in df_upt.index:\n",
    "        if df['deleted'][i]:\n",
    "            df_upt['del_time'][i] = df['del_time'][i][-1]\n",
    "    return df_upt\n",
    "        \n",
    "df_upt = getting_data(df)\n",
    "qgrid.show_grid(getting_data(df))"
   ]
  },
  {
   "cell_type": "code",
   "execution_count": null,
   "metadata": {},
   "outputs": [],
   "source": []
  }
 ],
 "metadata": {
  "kernelspec": {
   "display_name": "Python 3",
   "language": "python",
   "name": "python3"
  },
  "language_info": {
   "codemirror_mode": {
    "name": "ipython",
    "version": 3
   },
   "file_extension": ".py",
   "mimetype": "text/x-python",
   "name": "python",
   "nbconvert_exporter": "python",
   "pygments_lexer": "ipython3",
   "version": "3.7.0"
  }
 },
 "nbformat": 4,
 "nbformat_minor": 2
}
